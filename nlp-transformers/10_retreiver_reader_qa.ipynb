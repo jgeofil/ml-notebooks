{
 "cells": [
  {
   "cell_type": "code",
   "execution_count": 3,
   "metadata": {},
   "outputs": [
    {
     "name": "stdout",
     "output_type": "stream",
     "text": [
      "Collecting pinecone-haystack\n",
      "  Downloading pinecone_haystack-0.2.0-py3-none-any.whl.metadata (1.8 kB)\n",
      "Requirement already satisfied: haystack-ai in /home/jeremygf/git/ml-notebooks/.venv/lib/python3.11/site-packages (from pinecone-haystack) (2.0.0b5)\n",
      "Collecting pinecone-client<3 (from pinecone-haystack)\n",
      "  Downloading pinecone_client-2.2.4-py3-none-any.whl.metadata (7.8 kB)\n",
      "Requirement already satisfied: requests>=2.19.0 in /home/jeremygf/git/ml-notebooks/.venv/lib/python3.11/site-packages (from pinecone-client<3->pinecone-haystack) (2.31.0)\n",
      "Requirement already satisfied: pyyaml>=5.4 in /home/jeremygf/git/ml-notebooks/.venv/lib/python3.11/site-packages (from pinecone-client<3->pinecone-haystack) (6.0.1)\n",
      "Collecting loguru>=0.5.0 (from pinecone-client<3->pinecone-haystack)\n",
      "  Downloading loguru-0.7.2-py3-none-any.whl.metadata (23 kB)\n",
      "Requirement already satisfied: typing-extensions>=3.7.4 in /home/jeremygf/git/ml-notebooks/.venv/lib/python3.11/site-packages (from pinecone-client<3->pinecone-haystack) (4.9.0)\n",
      "Collecting dnspython>=2.0.0 (from pinecone-client<3->pinecone-haystack)\n",
      "  Downloading dnspython-2.5.0-py3-none-any.whl.metadata (5.8 kB)\n",
      "Requirement already satisfied: python-dateutil>=2.5.3 in /home/jeremygf/git/ml-notebooks/.venv/lib/python3.11/site-packages (from pinecone-client<3->pinecone-haystack) (2.8.2)\n",
      "Requirement already satisfied: urllib3>=1.21.1 in /home/jeremygf/git/ml-notebooks/.venv/lib/python3.11/site-packages (from pinecone-client<3->pinecone-haystack) (2.1.0)\n",
      "Requirement already satisfied: tqdm>=4.64.1 in /home/jeremygf/git/ml-notebooks/.venv/lib/python3.11/site-packages (from pinecone-client<3->pinecone-haystack) (4.66.1)\n",
      "Requirement already satisfied: numpy>=1.22.0 in /home/jeremygf/git/ml-notebooks/.venv/lib/python3.11/site-packages (from pinecone-client<3->pinecone-haystack) (1.26.3)\n",
      "Requirement already satisfied: boilerpy3 in /home/jeremygf/git/ml-notebooks/.venv/lib/python3.11/site-packages (from haystack-ai->pinecone-haystack) (1.0.7)\n",
      "Requirement already satisfied: haystack-bm25 in /home/jeremygf/git/ml-notebooks/.venv/lib/python3.11/site-packages (from haystack-ai->pinecone-haystack) (1.0.2)\n",
      "Requirement already satisfied: jinja2 in /home/jeremygf/git/ml-notebooks/.venv/lib/python3.11/site-packages (from haystack-ai->pinecone-haystack) (3.1.3)\n",
      "Requirement already satisfied: lazy-imports in /home/jeremygf/git/ml-notebooks/.venv/lib/python3.11/site-packages (from haystack-ai->pinecone-haystack) (0.3.1)\n",
      "Requirement already satisfied: more-itertools in /home/jeremygf/git/ml-notebooks/.venv/lib/python3.11/site-packages (from haystack-ai->pinecone-haystack) (10.2.0)\n",
      "Requirement already satisfied: networkx in /home/jeremygf/git/ml-notebooks/.venv/lib/python3.11/site-packages (from haystack-ai->pinecone-haystack) (3.2.1)\n",
      "Requirement already satisfied: openai>=1.1.0 in /home/jeremygf/git/ml-notebooks/.venv/lib/python3.11/site-packages (from haystack-ai->pinecone-haystack) (1.9.0)\n",
      "Requirement already satisfied: pandas in /home/jeremygf/git/ml-notebooks/.venv/lib/python3.11/site-packages (from haystack-ai->pinecone-haystack) (2.2.0)\n",
      "Requirement already satisfied: posthog in /home/jeremygf/git/ml-notebooks/.venv/lib/python3.11/site-packages (from haystack-ai->pinecone-haystack) (3.3.2)\n",
      "Requirement already satisfied: tenacity in /home/jeremygf/git/ml-notebooks/.venv/lib/python3.11/site-packages (from haystack-ai->pinecone-haystack) (8.2.3)\n",
      "Requirement already satisfied: anyio<5,>=3.5.0 in /home/jeremygf/git/ml-notebooks/.venv/lib/python3.11/site-packages (from openai>=1.1.0->haystack-ai->pinecone-haystack) (4.2.0)\n",
      "Requirement already satisfied: distro<2,>=1.7.0 in /home/jeremygf/git/ml-notebooks/.venv/lib/python3.11/site-packages (from openai>=1.1.0->haystack-ai->pinecone-haystack) (1.9.0)\n",
      "Requirement already satisfied: httpx<1,>=0.23.0 in /home/jeremygf/git/ml-notebooks/.venv/lib/python3.11/site-packages (from openai>=1.1.0->haystack-ai->pinecone-haystack) (0.26.0)\n",
      "Requirement already satisfied: pydantic<3,>=1.9.0 in /home/jeremygf/git/ml-notebooks/.venv/lib/python3.11/site-packages (from openai>=1.1.0->haystack-ai->pinecone-haystack) (2.5.3)\n",
      "Requirement already satisfied: sniffio in /home/jeremygf/git/ml-notebooks/.venv/lib/python3.11/site-packages (from openai>=1.1.0->haystack-ai->pinecone-haystack) (1.3.0)\n",
      "Requirement already satisfied: six>=1.5 in /home/jeremygf/git/ml-notebooks/.venv/lib/python3.11/site-packages (from python-dateutil>=2.5.3->pinecone-client<3->pinecone-haystack) (1.16.0)\n",
      "Requirement already satisfied: charset-normalizer<4,>=2 in /home/jeremygf/git/ml-notebooks/.venv/lib/python3.11/site-packages (from requests>=2.19.0->pinecone-client<3->pinecone-haystack) (3.3.2)\n",
      "Requirement already satisfied: idna<4,>=2.5 in /home/jeremygf/git/ml-notebooks/.venv/lib/python3.11/site-packages (from requests>=2.19.0->pinecone-client<3->pinecone-haystack) (3.6)\n",
      "Requirement already satisfied: certifi>=2017.4.17 in /home/jeremygf/git/ml-notebooks/.venv/lib/python3.11/site-packages (from requests>=2.19.0->pinecone-client<3->pinecone-haystack) (2023.11.17)\n",
      "Requirement already satisfied: MarkupSafe>=2.0 in /home/jeremygf/git/ml-notebooks/.venv/lib/python3.11/site-packages (from jinja2->haystack-ai->pinecone-haystack) (2.1.4)\n",
      "Requirement already satisfied: pytz>=2020.1 in /home/jeremygf/git/ml-notebooks/.venv/lib/python3.11/site-packages (from pandas->haystack-ai->pinecone-haystack) (2023.3.post1)\n",
      "Requirement already satisfied: tzdata>=2022.7 in /home/jeremygf/git/ml-notebooks/.venv/lib/python3.11/site-packages (from pandas->haystack-ai->pinecone-haystack) (2023.4)\n",
      "Requirement already satisfied: monotonic>=1.5 in /home/jeremygf/git/ml-notebooks/.venv/lib/python3.11/site-packages (from posthog->haystack-ai->pinecone-haystack) (1.6)\n",
      "Requirement already satisfied: backoff>=1.10.0 in /home/jeremygf/git/ml-notebooks/.venv/lib/python3.11/site-packages (from posthog->haystack-ai->pinecone-haystack) (2.2.1)\n",
      "Requirement already satisfied: httpcore==1.* in /home/jeremygf/git/ml-notebooks/.venv/lib/python3.11/site-packages (from httpx<1,>=0.23.0->openai>=1.1.0->haystack-ai->pinecone-haystack) (1.0.2)\n",
      "Requirement already satisfied: h11<0.15,>=0.13 in /home/jeremygf/git/ml-notebooks/.venv/lib/python3.11/site-packages (from httpcore==1.*->httpx<1,>=0.23.0->openai>=1.1.0->haystack-ai->pinecone-haystack) (0.14.0)\n",
      "Requirement already satisfied: annotated-types>=0.4.0 in /home/jeremygf/git/ml-notebooks/.venv/lib/python3.11/site-packages (from pydantic<3,>=1.9.0->openai>=1.1.0->haystack-ai->pinecone-haystack) (0.6.0)\n",
      "Requirement already satisfied: pydantic-core==2.14.6 in /home/jeremygf/git/ml-notebooks/.venv/lib/python3.11/site-packages (from pydantic<3,>=1.9.0->openai>=1.1.0->haystack-ai->pinecone-haystack) (2.14.6)\n",
      "Downloading pinecone_haystack-0.2.0-py3-none-any.whl (8.6 kB)\n",
      "Downloading pinecone_client-2.2.4-py3-none-any.whl (179 kB)\n",
      "\u001b[2K   \u001b[90m━━━━━━━━━━━━━━━━━━━━━━━━━━━━━━━━━━━━━━━━\u001b[0m \u001b[32m179.4/179.4 kB\u001b[0m \u001b[31m3.6 MB/s\u001b[0m eta \u001b[36m0:00:00\u001b[0ma \u001b[36m0:00:01\u001b[0m\n",
      "\u001b[?25hDownloading dnspython-2.5.0-py3-none-any.whl (305 kB)\n",
      "\u001b[2K   \u001b[90m━━━━━━━━━━━━━━━━━━━━━━━━━━━━━━━━━━━━━━━━\u001b[0m \u001b[32m305.4/305.4 kB\u001b[0m \u001b[31m11.4 MB/s\u001b[0m eta \u001b[36m0:00:00\u001b[0m\n",
      "\u001b[?25hDownloading loguru-0.7.2-py3-none-any.whl (62 kB)\n",
      "\u001b[2K   \u001b[90m━━━━━━━━━━━━━━━━━━━━━━━━━━━━━━━━━━━━━━━━\u001b[0m \u001b[32m62.5/62.5 kB\u001b[0m \u001b[31m6.1 MB/s\u001b[0m eta \u001b[36m0:00:00\u001b[0m\n",
      "\u001b[?25hInstalling collected packages: loguru, dnspython, pinecone-client, pinecone-haystack\n",
      "  Attempting uninstall: pinecone-client\n",
      "    Found existing installation: pinecone-client 3.0.0\n",
      "    Uninstalling pinecone-client-3.0.0:\n",
      "      Successfully uninstalled pinecone-client-3.0.0\n",
      "Successfully installed dnspython-2.5.0 loguru-0.7.2 pinecone-client-2.2.4 pinecone-haystack-0.2.0\n"
     ]
    }
   ],
   "source": [
    "!pip install pinecone-haystack\n"
   ]
  },
  {
   "cell_type": "code",
   "execution_count": 1,
   "metadata": {},
   "outputs": [],
   "source": [
    "from haystack_integrations.document_stores.pinecone import PineconeDocumentStore\n",
    "\n",
    "\n",
    "document_store = PineconeDocumentStore(api_key='9508d6bc-49e8-4514-9efe-55bb68d1c4d9', index='transformer', environment='gcp-starter', return_embedding=True)\n"
   ]
  },
  {
   "cell_type": "code",
   "execution_count": 2,
   "metadata": {},
   "outputs": [],
   "source": [
    "from datasets import load_dataset\n",
    "\n",
    "subjqa = load_dataset(\"subjqa\", 'electronics')"
   ]
  },
  {
   "cell_type": "code",
   "execution_count": 3,
   "metadata": {},
   "outputs": [
    {
     "name": "stdout",
     "output_type": "stream",
     "text": [
      "Number of questions in train: 1295\n",
      "Number of questions in test: 358\n",
      "Number of questions in validation: 255\n"
     ]
    }
   ],
   "source": [
    "import pandas as pd\n",
    "\n",
    "dfs = {split: dset.to_pandas() for split, dset in subjqa.flatten().items()}\n",
    "\n",
    "for split, df in dfs.items():\n",
    "    print(f\"Number of questions in {split}: {df['id'].nunique()}\")"
   ]
  },
  {
   "cell_type": "code",
   "execution_count": 4,
   "metadata": {},
   "outputs": [],
   "source": [
    "from haystack import Document\n",
    "documents = []\n",
    "for split, df in dfs.items():\n",
    "    # Exclude duplicate reviews\n",
    "    docs = [Document(content=row[\"context\"], meta={\"item_id\": row[\"title\"], \"question_id\": row[\"id\"], \"split\": split})\n",
    "        for _,row in df.drop_duplicates(subset=\"context\").iterrows()]\n",
    "    documents.extend(docs)\n"
   ]
  },
  {
   "cell_type": "code",
   "execution_count": 5,
   "metadata": {},
   "outputs": [],
   "source": [
    "from haystack.components.embedders import SentenceTransformersTextEmbedder, SentenceTransformersDocumentEmbedder\n",
    "from haystack_integrations.components.retrievers.pinecone import PineconeDenseRetriever"
   ]
  },
  {
   "cell_type": "code",
   "execution_count": 18,
   "metadata": {},
   "outputs": [
    {
     "name": "stdout",
     "output_type": "stream",
     "text": [
      "Collecting sentence-transformers>=2.2.0\n",
      "  Downloading sentence-transformers-2.2.2.tar.gz (85 kB)\n",
      "\u001b[2K     \u001b[90m━━━━━━━━━━━━━━━━━━━━━━━━━━━━━━━━━━━━━━━━\u001b[0m \u001b[32m86.0/86.0 kB\u001b[0m \u001b[31m2.1 MB/s\u001b[0m eta \u001b[36m0:00:00\u001b[0ma \u001b[36m0:00:01\u001b[0m\n",
      "\u001b[?25h  Preparing metadata (setup.py) ... \u001b[?25ldone\n",
      "\u001b[?25hRequirement already satisfied: transformers<5.0.0,>=4.6.0 in /home/jeremygf/git/ml-notebooks/.venv/lib/python3.11/site-packages (from sentence-transformers>=2.2.0) (4.35.2)\n",
      "Requirement already satisfied: tqdm in /home/jeremygf/git/ml-notebooks/.venv/lib/python3.11/site-packages (from sentence-transformers>=2.2.0) (4.66.1)\n",
      "Requirement already satisfied: torch>=1.6.0 in /home/jeremygf/git/ml-notebooks/.venv/lib/python3.11/site-packages (from sentence-transformers>=2.2.0) (2.0.1)\n",
      "Collecting torchvision (from sentence-transformers>=2.2.0)\n",
      "  Downloading torchvision-0.16.2-cp311-cp311-manylinux1_x86_64.whl.metadata (6.6 kB)\n",
      "Requirement already satisfied: numpy in /home/jeremygf/git/ml-notebooks/.venv/lib/python3.11/site-packages (from sentence-transformers>=2.2.0) (1.26.3)\n",
      "Requirement already satisfied: scikit-learn in /home/jeremygf/git/ml-notebooks/.venv/lib/python3.11/site-packages (from sentence-transformers>=2.2.0) (1.4.0)\n",
      "Requirement already satisfied: scipy in /home/jeremygf/git/ml-notebooks/.venv/lib/python3.11/site-packages (from sentence-transformers>=2.2.0) (1.12.0)\n",
      "Requirement already satisfied: nltk in /home/jeremygf/git/ml-notebooks/.venv/lib/python3.11/site-packages (from sentence-transformers>=2.2.0) (3.8.1)\n",
      "Requirement already satisfied: sentencepiece in /home/jeremygf/git/ml-notebooks/.venv/lib/python3.11/site-packages (from sentence-transformers>=2.2.0) (0.1.99)\n",
      "Requirement already satisfied: huggingface-hub>=0.4.0 in /home/jeremygf/git/ml-notebooks/.venv/lib/python3.11/site-packages (from sentence-transformers>=2.2.0) (0.20.3)\n",
      "Requirement already satisfied: filelock in /home/jeremygf/git/ml-notebooks/.venv/lib/python3.11/site-packages (from huggingface-hub>=0.4.0->sentence-transformers>=2.2.0) (3.13.1)\n",
      "Requirement already satisfied: fsspec>=2023.5.0 in /home/jeremygf/git/ml-notebooks/.venv/lib/python3.11/site-packages (from huggingface-hub>=0.4.0->sentence-transformers>=2.2.0) (2023.10.0)\n",
      "Requirement already satisfied: requests in /home/jeremygf/git/ml-notebooks/.venv/lib/python3.11/site-packages (from huggingface-hub>=0.4.0->sentence-transformers>=2.2.0) (2.31.0)\n",
      "Requirement already satisfied: pyyaml>=5.1 in /home/jeremygf/git/ml-notebooks/.venv/lib/python3.11/site-packages (from huggingface-hub>=0.4.0->sentence-transformers>=2.2.0) (6.0.1)\n",
      "Requirement already satisfied: typing-extensions>=3.7.4.3 in /home/jeremygf/git/ml-notebooks/.venv/lib/python3.11/site-packages (from huggingface-hub>=0.4.0->sentence-transformers>=2.2.0) (4.9.0)\n",
      "Requirement already satisfied: packaging>=20.9 in /home/jeremygf/git/ml-notebooks/.venv/lib/python3.11/site-packages (from huggingface-hub>=0.4.0->sentence-transformers>=2.2.0) (23.2)\n",
      "Requirement already satisfied: sympy in /home/jeremygf/git/ml-notebooks/.venv/lib/python3.11/site-packages (from torch>=1.6.0->sentence-transformers>=2.2.0) (1.12)\n",
      "Requirement already satisfied: networkx in /home/jeremygf/git/ml-notebooks/.venv/lib/python3.11/site-packages (from torch>=1.6.0->sentence-transformers>=2.2.0) (3.2.1)\n",
      "Requirement already satisfied: jinja2 in /home/jeremygf/git/ml-notebooks/.venv/lib/python3.11/site-packages (from torch>=1.6.0->sentence-transformers>=2.2.0) (3.1.3)\n",
      "Requirement already satisfied: nvidia-cuda-nvrtc-cu11==11.7.99 in /home/jeremygf/git/ml-notebooks/.venv/lib/python3.11/site-packages (from torch>=1.6.0->sentence-transformers>=2.2.0) (11.7.99)\n",
      "Requirement already satisfied: nvidia-cuda-runtime-cu11==11.7.99 in /home/jeremygf/git/ml-notebooks/.venv/lib/python3.11/site-packages (from torch>=1.6.0->sentence-transformers>=2.2.0) (11.7.99)\n",
      "Requirement already satisfied: nvidia-cuda-cupti-cu11==11.7.101 in /home/jeremygf/git/ml-notebooks/.venv/lib/python3.11/site-packages (from torch>=1.6.0->sentence-transformers>=2.2.0) (11.7.101)\n",
      "Requirement already satisfied: nvidia-cudnn-cu11==8.5.0.96 in /home/jeremygf/git/ml-notebooks/.venv/lib/python3.11/site-packages (from torch>=1.6.0->sentence-transformers>=2.2.0) (8.5.0.96)\n",
      "Requirement already satisfied: nvidia-cublas-cu11==11.10.3.66 in /home/jeremygf/git/ml-notebooks/.venv/lib/python3.11/site-packages (from torch>=1.6.0->sentence-transformers>=2.2.0) (11.10.3.66)\n",
      "Requirement already satisfied: nvidia-cufft-cu11==10.9.0.58 in /home/jeremygf/git/ml-notebooks/.venv/lib/python3.11/site-packages (from torch>=1.6.0->sentence-transformers>=2.2.0) (10.9.0.58)\n",
      "Requirement already satisfied: nvidia-curand-cu11==10.2.10.91 in /home/jeremygf/git/ml-notebooks/.venv/lib/python3.11/site-packages (from torch>=1.6.0->sentence-transformers>=2.2.0) (10.2.10.91)\n",
      "Requirement already satisfied: nvidia-cusolver-cu11==11.4.0.1 in /home/jeremygf/git/ml-notebooks/.venv/lib/python3.11/site-packages (from torch>=1.6.0->sentence-transformers>=2.2.0) (11.4.0.1)\n",
      "Requirement already satisfied: nvidia-cusparse-cu11==11.7.4.91 in /home/jeremygf/git/ml-notebooks/.venv/lib/python3.11/site-packages (from torch>=1.6.0->sentence-transformers>=2.2.0) (11.7.4.91)\n",
      "Requirement already satisfied: nvidia-nccl-cu11==2.14.3 in /home/jeremygf/git/ml-notebooks/.venv/lib/python3.11/site-packages (from torch>=1.6.0->sentence-transformers>=2.2.0) (2.14.3)\n",
      "Requirement already satisfied: nvidia-nvtx-cu11==11.7.91 in /home/jeremygf/git/ml-notebooks/.venv/lib/python3.11/site-packages (from torch>=1.6.0->sentence-transformers>=2.2.0) (11.7.91)\n",
      "Requirement already satisfied: triton==2.0.0 in /home/jeremygf/git/ml-notebooks/.venv/lib/python3.11/site-packages (from torch>=1.6.0->sentence-transformers>=2.2.0) (2.0.0)\n",
      "Requirement already satisfied: setuptools in /home/jeremygf/git/ml-notebooks/.venv/lib/python3.11/site-packages (from nvidia-cublas-cu11==11.10.3.66->torch>=1.6.0->sentence-transformers>=2.2.0) (69.0.3)\n",
      "Requirement already satisfied: wheel in /home/jeremygf/git/ml-notebooks/.venv/lib/python3.11/site-packages (from nvidia-cublas-cu11==11.10.3.66->torch>=1.6.0->sentence-transformers>=2.2.0) (0.42.0)\n",
      "Requirement already satisfied: cmake in /home/jeremygf/git/ml-notebooks/.venv/lib/python3.11/site-packages (from triton==2.0.0->torch>=1.6.0->sentence-transformers>=2.2.0) (3.28.1)\n",
      "Requirement already satisfied: lit in /home/jeremygf/git/ml-notebooks/.venv/lib/python3.11/site-packages (from triton==2.0.0->torch>=1.6.0->sentence-transformers>=2.2.0) (17.0.6)\n",
      "Requirement already satisfied: regex!=2019.12.17 in /home/jeremygf/git/ml-notebooks/.venv/lib/python3.11/site-packages (from transformers<5.0.0,>=4.6.0->sentence-transformers>=2.2.0) (2023.12.25)\n",
      "Requirement already satisfied: tokenizers<0.19,>=0.14 in /home/jeremygf/git/ml-notebooks/.venv/lib/python3.11/site-packages (from transformers<5.0.0,>=4.6.0->sentence-transformers>=2.2.0) (0.15.1)\n",
      "Requirement already satisfied: safetensors>=0.3.1 in /home/jeremygf/git/ml-notebooks/.venv/lib/python3.11/site-packages (from transformers<5.0.0,>=4.6.0->sentence-transformers>=2.2.0) (0.4.2)\n",
      "Requirement already satisfied: click in /home/jeremygf/git/ml-notebooks/.venv/lib/python3.11/site-packages (from nltk->sentence-transformers>=2.2.0) (8.1.7)\n",
      "Requirement already satisfied: joblib in /home/jeremygf/git/ml-notebooks/.venv/lib/python3.11/site-packages (from nltk->sentence-transformers>=2.2.0) (1.3.2)\n",
      "Requirement already satisfied: threadpoolctl>=2.0.0 in /home/jeremygf/git/ml-notebooks/.venv/lib/python3.11/site-packages (from scikit-learn->sentence-transformers>=2.2.0) (3.2.0)\n",
      "Collecting torch>=1.6.0 (from sentence-transformers>=2.2.0)\n",
      "  Using cached torch-2.1.2-cp311-cp311-manylinux1_x86_64.whl.metadata (25 kB)\n",
      "Requirement already satisfied: pillow!=8.3.*,>=5.3.0 in /home/jeremygf/git/ml-notebooks/.venv/lib/python3.11/site-packages (from torchvision->sentence-transformers>=2.2.0) (10.2.0)\n",
      "Collecting nvidia-cuda-nvrtc-cu12==12.1.105 (from torch>=1.6.0->sentence-transformers>=2.2.0)\n",
      "  Using cached nvidia_cuda_nvrtc_cu12-12.1.105-py3-none-manylinux1_x86_64.whl (23.7 MB)\n",
      "Collecting nvidia-cuda-runtime-cu12==12.1.105 (from torch>=1.6.0->sentence-transformers>=2.2.0)\n",
      "  Using cached nvidia_cuda_runtime_cu12-12.1.105-py3-none-manylinux1_x86_64.whl (823 kB)\n",
      "Collecting nvidia-cuda-cupti-cu12==12.1.105 (from torch>=1.6.0->sentence-transformers>=2.2.0)\n",
      "  Using cached nvidia_cuda_cupti_cu12-12.1.105-py3-none-manylinux1_x86_64.whl (14.1 MB)\n",
      "Collecting nvidia-cudnn-cu12==8.9.2.26 (from torch>=1.6.0->sentence-transformers>=2.2.0)\n",
      "  Using cached nvidia_cudnn_cu12-8.9.2.26-py3-none-manylinux1_x86_64.whl.metadata (1.6 kB)\n",
      "Collecting nvidia-cublas-cu12==12.1.3.1 (from torch>=1.6.0->sentence-transformers>=2.2.0)\n",
      "  Using cached nvidia_cublas_cu12-12.1.3.1-py3-none-manylinux1_x86_64.whl (410.6 MB)\n",
      "Collecting nvidia-cufft-cu12==11.0.2.54 (from torch>=1.6.0->sentence-transformers>=2.2.0)\n",
      "  Using cached nvidia_cufft_cu12-11.0.2.54-py3-none-manylinux1_x86_64.whl (121.6 MB)\n",
      "Collecting nvidia-curand-cu12==10.3.2.106 (from torch>=1.6.0->sentence-transformers>=2.2.0)\n",
      "  Using cached nvidia_curand_cu12-10.3.2.106-py3-none-manylinux1_x86_64.whl (56.5 MB)\n",
      "Collecting nvidia-cusolver-cu12==11.4.5.107 (from torch>=1.6.0->sentence-transformers>=2.2.0)\n",
      "  Using cached nvidia_cusolver_cu12-11.4.5.107-py3-none-manylinux1_x86_64.whl (124.2 MB)\n",
      "Collecting nvidia-cusparse-cu12==12.1.0.106 (from torch>=1.6.0->sentence-transformers>=2.2.0)\n",
      "  Using cached nvidia_cusparse_cu12-12.1.0.106-py3-none-manylinux1_x86_64.whl (196.0 MB)\n",
      "Collecting nvidia-nccl-cu12==2.18.1 (from torch>=1.6.0->sentence-transformers>=2.2.0)\n",
      "  Using cached nvidia_nccl_cu12-2.18.1-py3-none-manylinux1_x86_64.whl (209.8 MB)\n",
      "Requirement already satisfied: nvidia-nvtx-cu12==12.1.105 in /home/jeremygf/git/ml-notebooks/.venv/lib/python3.11/site-packages (from torch>=1.6.0->sentence-transformers>=2.2.0) (12.1.105)\n",
      "Collecting triton==2.1.0 (from torch>=1.6.0->sentence-transformers>=2.2.0)\n",
      "  Using cached triton-2.1.0-0-cp311-cp311-manylinux2014_x86_64.manylinux_2_17_x86_64.whl.metadata (1.3 kB)\n",
      "Requirement already satisfied: nvidia-nvjitlink-cu12 in /home/jeremygf/git/ml-notebooks/.venv/lib/python3.11/site-packages (from nvidia-cusolver-cu12==11.4.5.107->torch>=1.6.0->sentence-transformers>=2.2.0) (12.2.140)\n",
      "Requirement already satisfied: MarkupSafe>=2.0 in /home/jeremygf/git/ml-notebooks/.venv/lib/python3.11/site-packages (from jinja2->torch>=1.6.0->sentence-transformers>=2.2.0) (2.1.4)\n",
      "Requirement already satisfied: charset-normalizer<4,>=2 in /home/jeremygf/git/ml-notebooks/.venv/lib/python3.11/site-packages (from requests->huggingface-hub>=0.4.0->sentence-transformers>=2.2.0) (3.3.2)\n",
      "Requirement already satisfied: idna<4,>=2.5 in /home/jeremygf/git/ml-notebooks/.venv/lib/python3.11/site-packages (from requests->huggingface-hub>=0.4.0->sentence-transformers>=2.2.0) (3.6)\n",
      "Requirement already satisfied: urllib3<3,>=1.21.1 in /home/jeremygf/git/ml-notebooks/.venv/lib/python3.11/site-packages (from requests->huggingface-hub>=0.4.0->sentence-transformers>=2.2.0) (2.1.0)\n",
      "Requirement already satisfied: certifi>=2017.4.17 in /home/jeremygf/git/ml-notebooks/.venv/lib/python3.11/site-packages (from requests->huggingface-hub>=0.4.0->sentence-transformers>=2.2.0) (2023.11.17)\n",
      "Requirement already satisfied: mpmath>=0.19 in /home/jeremygf/git/ml-notebooks/.venv/lib/python3.11/site-packages (from sympy->torch>=1.6.0->sentence-transformers>=2.2.0) (1.3.0)\n",
      "Downloading torchvision-0.16.2-cp311-cp311-manylinux1_x86_64.whl (6.8 MB)\n",
      "\u001b[2K   \u001b[90m━━━━━━━━━━━━━━━━━━━━━━━━━━━━━━━━━━━━━━━━\u001b[0m \u001b[32m6.8/6.8 MB\u001b[0m \u001b[31m3.3 MB/s\u001b[0m eta \u001b[36m0:00:00\u001b[0m00:01\u001b[0m00:01\u001b[0m\n",
      "\u001b[?25hUsing cached torch-2.1.2-cp311-cp311-manylinux1_x86_64.whl (670.2 MB)\n",
      "Using cached nvidia_cudnn_cu12-8.9.2.26-py3-none-manylinux1_x86_64.whl (731.7 MB)\n",
      "Using cached triton-2.1.0-0-cp311-cp311-manylinux2014_x86_64.manylinux_2_17_x86_64.whl (89.2 MB)\n",
      "Building wheels for collected packages: sentence-transformers\n",
      "  Building wheel for sentence-transformers (setup.py) ... \u001b[?25ldone\n",
      "\u001b[?25h  Created wheel for sentence-transformers: filename=sentence_transformers-2.2.2-py3-none-any.whl size=125923 sha256=53094c1bb14d00db7e3f854955d57d39f1e5ee0ea80c0dad08722c678e510a82\n",
      "  Stored in directory: /home/jeremygf/.cache/pip/wheels/ff/27/bf/ffba8b318b02d7f691a57084ee154e26ed24d012b0c7805881\n",
      "Successfully built sentence-transformers\n",
      "Installing collected packages: triton, nvidia-nccl-cu12, nvidia-cusparse-cu12, nvidia-curand-cu12, nvidia-cufft-cu12, nvidia-cuda-runtime-cu12, nvidia-cuda-nvrtc-cu12, nvidia-cuda-cupti-cu12, nvidia-cublas-cu12, nvidia-cusolver-cu12, nvidia-cudnn-cu12, torch, torchvision, sentence-transformers\n",
      "  Attempting uninstall: triton\n",
      "    Found existing installation: triton 2.0.0\n",
      "    Uninstalling triton-2.0.0:\n",
      "      Successfully uninstalled triton-2.0.0\n",
      "  Attempting uninstall: nvidia-nccl-cu12\n",
      "    Found existing installation: nvidia-nccl-cu12 2.16.5\n",
      "    Uninstalling nvidia-nccl-cu12-2.16.5:\n",
      "      Successfully uninstalled nvidia-nccl-cu12-2.16.5\n",
      "  Attempting uninstall: nvidia-cusparse-cu12\n",
      "    Found existing installation: nvidia-cusparse-cu12 12.1.2.141\n",
      "    Uninstalling nvidia-cusparse-cu12-12.1.2.141:\n",
      "      Successfully uninstalled nvidia-cusparse-cu12-12.1.2.141\n",
      "  Attempting uninstall: nvidia-curand-cu12\n",
      "    Found existing installation: nvidia-curand-cu12 10.3.3.141\n",
      "    Uninstalling nvidia-curand-cu12-10.3.3.141:\n",
      "      Successfully uninstalled nvidia-curand-cu12-10.3.3.141\n",
      "  Attempting uninstall: nvidia-cufft-cu12\n",
      "    Found existing installation: nvidia-cufft-cu12 11.0.8.103\n",
      "    Uninstalling nvidia-cufft-cu12-11.0.8.103:\n",
      "      Successfully uninstalled nvidia-cufft-cu12-11.0.8.103\n",
      "  Attempting uninstall: nvidia-cuda-runtime-cu12\n",
      "    Found existing installation: nvidia-cuda-runtime-cu12 12.2.140\n",
      "    Uninstalling nvidia-cuda-runtime-cu12-12.2.140:\n",
      "      Successfully uninstalled nvidia-cuda-runtime-cu12-12.2.140\n",
      "  Attempting uninstall: nvidia-cuda-nvrtc-cu12\n",
      "    Found existing installation: nvidia-cuda-nvrtc-cu12 12.2.140\n",
      "    Uninstalling nvidia-cuda-nvrtc-cu12-12.2.140:\n",
      "      Successfully uninstalled nvidia-cuda-nvrtc-cu12-12.2.140\n",
      "  Attempting uninstall: nvidia-cuda-cupti-cu12\n",
      "    Found existing installation: nvidia-cuda-cupti-cu12 12.2.142\n",
      "    Uninstalling nvidia-cuda-cupti-cu12-12.2.142:\n",
      "      Successfully uninstalled nvidia-cuda-cupti-cu12-12.2.142\n",
      "  Attempting uninstall: nvidia-cublas-cu12\n",
      "    Found existing installation: nvidia-cublas-cu12 12.2.5.6\n",
      "    Uninstalling nvidia-cublas-cu12-12.2.5.6:\n",
      "      Successfully uninstalled nvidia-cublas-cu12-12.2.5.6\n",
      "  Attempting uninstall: nvidia-cusolver-cu12\n",
      "    Found existing installation: nvidia-cusolver-cu12 11.5.2.141\n",
      "    Uninstalling nvidia-cusolver-cu12-11.5.2.141:\n",
      "      Successfully uninstalled nvidia-cusolver-cu12-11.5.2.141\n",
      "  Attempting uninstall: nvidia-cudnn-cu12\n",
      "    Found existing installation: nvidia-cudnn-cu12 8.9.4.25\n",
      "    Uninstalling nvidia-cudnn-cu12-8.9.4.25:\n",
      "      Successfully uninstalled nvidia-cudnn-cu12-8.9.4.25\n",
      "  Attempting uninstall: torch\n",
      "    Found existing installation: torch 2.0.1\n",
      "    Uninstalling torch-2.0.1:\n",
      "      Successfully uninstalled torch-2.0.1\n",
      "Successfully installed nvidia-cublas-cu12-12.1.3.1 nvidia-cuda-cupti-cu12-12.1.105 nvidia-cuda-nvrtc-cu12-12.1.105 nvidia-cuda-runtime-cu12-12.1.105 nvidia-cudnn-cu12-8.9.2.26 nvidia-cufft-cu12-11.0.2.54 nvidia-curand-cu12-10.3.2.106 nvidia-cusolver-cu12-11.4.5.107 nvidia-cusparse-cu12-12.1.0.106 nvidia-nccl-cu12-2.18.1 sentence-transformers-2.2.2 torch-2.1.2 torchvision-0.16.2 triton-2.1.0\n"
     ]
    }
   ],
   "source": [
    "!pip install \"sentence-transformers>=2.2.0\""
   ]
  },
  {
   "cell_type": "code",
   "execution_count": 6,
   "metadata": {},
   "outputs": [
    {
     "data": {
      "application/vnd.jupyter.widget-view+json": {
       "model_id": "52b161897c664b0ea4eeecd66dfb5681",
       "version_major": 2,
       "version_minor": 0
      },
      "text/plain": [
       ".gitattributes:   0%|          | 0.00/1.18k [00:00<?, ?B/s]"
      ]
     },
     "metadata": {},
     "output_type": "display_data"
    },
    {
     "data": {
      "application/vnd.jupyter.widget-view+json": {
       "model_id": "921feafcba324e4c8a24be93373d47b9",
       "version_major": 2,
       "version_minor": 0
      },
      "text/plain": [
       "1_Pooling/config.json:   0%|          | 0.00/190 [00:00<?, ?B/s]"
      ]
     },
     "metadata": {},
     "output_type": "display_data"
    },
    {
     "data": {
      "application/vnd.jupyter.widget-view+json": {
       "model_id": "580403c191db4be08c05e1799db6d548",
       "version_major": 2,
       "version_minor": 0
      },
      "text/plain": [
       "README.md:   0%|          | 0.00/10.6k [00:00<?, ?B/s]"
      ]
     },
     "metadata": {},
     "output_type": "display_data"
    },
    {
     "data": {
      "application/vnd.jupyter.widget-view+json": {
       "model_id": "f8ef390689964b4a9d0cf459bd6d7307",
       "version_major": 2,
       "version_minor": 0
      },
      "text/plain": [
       "config.json:   0%|          | 0.00/571 [00:00<?, ?B/s]"
      ]
     },
     "metadata": {},
     "output_type": "display_data"
    },
    {
     "data": {
      "application/vnd.jupyter.widget-view+json": {
       "model_id": "93c976e8dca940b2952565c6f5063e16",
       "version_major": 2,
       "version_minor": 0
      },
      "text/plain": [
       "config_sentence_transformers.json:   0%|          | 0.00/116 [00:00<?, ?B/s]"
      ]
     },
     "metadata": {},
     "output_type": "display_data"
    },
    {
     "data": {
      "application/vnd.jupyter.widget-view+json": {
       "model_id": "67991399c54f4361addec405f2cc5432",
       "version_major": 2,
       "version_minor": 0
      },
      "text/plain": [
       "data_config.json:   0%|          | 0.00/39.3k [00:00<?, ?B/s]"
      ]
     },
     "metadata": {},
     "output_type": "display_data"
    },
    {
     "data": {
      "application/vnd.jupyter.widget-view+json": {
       "model_id": "eb83900d595d4d0b84059098835583ba",
       "version_major": 2,
       "version_minor": 0
      },
      "text/plain": [
       "pytorch_model.bin:   0%|          | 0.00/438M [00:00<?, ?B/s]"
      ]
     },
     "metadata": {},
     "output_type": "display_data"
    },
    {
     "data": {
      "application/vnd.jupyter.widget-view+json": {
       "model_id": "67d9f6c567d547ba9b79ebf635bb7a72",
       "version_major": 2,
       "version_minor": 0
      },
      "text/plain": [
       "sentence_bert_config.json:   0%|          | 0.00/53.0 [00:00<?, ?B/s]"
      ]
     },
     "metadata": {},
     "output_type": "display_data"
    },
    {
     "data": {
      "application/vnd.jupyter.widget-view+json": {
       "model_id": "f0c6d42fa662478f82698f33d0c5312d",
       "version_major": 2,
       "version_minor": 0
      },
      "text/plain": [
       "special_tokens_map.json:   0%|          | 0.00/239 [00:00<?, ?B/s]"
      ]
     },
     "metadata": {},
     "output_type": "display_data"
    },
    {
     "data": {
      "application/vnd.jupyter.widget-view+json": {
       "model_id": "ed7111ed4ef24e8faac119a57b1fb880",
       "version_major": 2,
       "version_minor": 0
      },
      "text/plain": [
       "tokenizer.json:   0%|          | 0.00/466k [00:00<?, ?B/s]"
      ]
     },
     "metadata": {},
     "output_type": "display_data"
    },
    {
     "data": {
      "application/vnd.jupyter.widget-view+json": {
       "model_id": "507e5e100de94c028dc02b64a8243b7e",
       "version_major": 2,
       "version_minor": 0
      },
      "text/plain": [
       "tokenizer_config.json:   0%|          | 0.00/363 [00:00<?, ?B/s]"
      ]
     },
     "metadata": {},
     "output_type": "display_data"
    },
    {
     "data": {
      "application/vnd.jupyter.widget-view+json": {
       "model_id": "a32167efdf7443199ef9719d1c110367",
       "version_major": 2,
       "version_minor": 0
      },
      "text/plain": [
       "train_script.py:   0%|          | 0.00/13.1k [00:00<?, ?B/s]"
      ]
     },
     "metadata": {},
     "output_type": "display_data"
    },
    {
     "data": {
      "application/vnd.jupyter.widget-view+json": {
       "model_id": "60b68ca2c2564e4eac275af6c020b368",
       "version_major": 2,
       "version_minor": 0
      },
      "text/plain": [
       "vocab.txt:   0%|          | 0.00/232k [00:00<?, ?B/s]"
      ]
     },
     "metadata": {},
     "output_type": "display_data"
    },
    {
     "data": {
      "application/vnd.jupyter.widget-view+json": {
       "model_id": "3a05171a98ab433d9d4bd0dd59c5e3f6",
       "version_major": 2,
       "version_minor": 0
      },
      "text/plain": [
       "modules.json:   0%|          | 0.00/349 [00:00<?, ?B/s]"
      ]
     },
     "metadata": {},
     "output_type": "display_data"
    },
    {
     "data": {
      "application/vnd.jupyter.widget-view+json": {
       "model_id": "26b5401612664fe4b86c67180bef5f34",
       "version_major": 2,
       "version_minor": 0
      },
      "text/plain": [
       "Batches:   0%|          | 0/59 [00:00<?, ?it/s]"
      ]
     },
     "metadata": {},
     "output_type": "display_data"
    }
   ],
   "source": [
    "document_embedder = SentenceTransformersDocumentEmbedder()  \n",
    "document_embedder.warm_up()\n",
    "documents_with_embeddings = document_embedder.run(documents)"
   ]
  },
  {
   "cell_type": "code",
   "execution_count": 9,
   "metadata": {},
   "outputs": [
    {
     "data": {
      "application/vnd.jupyter.widget-view+json": {
       "model_id": "4edebcbd4f5c49c194f68a87fb3ef3b9",
       "version_major": 2,
       "version_minor": 0
      },
      "text/plain": [
       "Upserted vectors:   0%|          | 0/1875 [00:00<?, ?it/s]"
      ]
     },
     "metadata": {},
     "output_type": "display_data"
    },
    {
     "data": {
      "text/plain": [
       "1875"
      ]
     },
     "execution_count": 9,
     "metadata": {},
     "output_type": "execute_result"
    }
   ],
   "source": [
    "\n",
    "document_store.write_documents(documents_with_embeddings.get(\"documents\"))"
   ]
  },
  {
   "cell_type": "code",
   "execution_count": 16,
   "metadata": {},
   "outputs": [
    {
     "data": {
      "application/vnd.jupyter.widget-view+json": {
       "model_id": "ea7d9e1a2f9d43bc99f4a10cecb46fcc",
       "version_major": 2,
       "version_minor": 0
      },
      "text/plain": [
       "Batches:   0%|          | 0/1 [00:00<?, ?it/s]"
      ]
     },
     "metadata": {},
     "output_type": "display_data"
    },
    {
     "name": "stdout",
     "output_type": "stream",
     "text": [
      "{'reader': {'answers': [ExtractedAnswer(query='How many languages are there?', score=0.4423697590827942, data='chinese not english', document=Document(id=7634a0e9c6eb9936712972c968f12d6e4c216199f877c185071c08cc4b5f0ea2, content: 'this mouse is pretty good i ordered it for a good price it shipped fast and got it in a few daysa fe...', meta: {'item_id': 'B005CPGHAA', 'question_id': '8f75c2599808a17be3fe53ddcd68ad48', 'split': 'test'}, score: 0.126256302, embedding: vector of size 768), context=None, document_offset=ExtractedAnswer.Span(start=417, end=436), context_offset=None, meta={}), ExtractedAnswer(query='How many languages are there?', score=0.36799100041389465, data='two', document=Document(id=87b3f05ccdfe65864be7a24e68602fa49ffb8076ab9bb758ad7f6a5ffb27766f, content: 'I had high expectations when I purchased this item, and it met or exceeded them in every way.  I typ...', meta: {'item_id': 'B003VAGXWK', 'question_id': '065ab2a6beae6a12948777a3eb65caf4', 'split': 'train'}, score: 0.114220046, embedding: vector of size 768), context=None, document_offset=ExtractedAnswer.Span(start=483, end=486), context_offset=None, meta={}), ExtractedAnswer(query='How many languages are there?', score=0.35242733070104215, data=None, document=None, context=None, document_offset=None, context_offset=None, meta={})]}}\n"
     ]
    }
   ],
   "source": [
    "from haystack import Pipeline\n",
    "from haystack.components.readers import ExtractiveReader\n",
    "\n",
    "reader = ExtractiveReader()\n",
    "reader.warm_up()\n",
    "\n",
    "query_pipeline = Pipeline()\n",
    "query_pipeline.add_component(\"text_embedder\", SentenceTransformersTextEmbedder())\n",
    "query_pipeline.add_component(\"retriever\", PineconeDenseRetriever(document_store=document_store))\n",
    "query_pipeline.add_component(instance=reader, name=\"reader\")\n",
    "query_pipeline.connect(\"text_embedder.embedding\", \"retriever.query_embedding\")\n",
    "query_pipeline.connect(\"retriever.documents\", \"reader.documents\")\n",
    "\n",
    "query = \"How many languages are there?\"\n",
    "\n",
    "result = query_pipeline.run({\"text_embedder\": {\"text\": query}, \"reader\": {\"query\": query, \"top_k\": 2}})\n",
    "\n",
    "print(result)"
   ]
  },
  {
   "cell_type": "code",
   "execution_count": null,
   "metadata": {},
   "outputs": [],
   "source": []
  }
 ],
 "metadata": {
  "kernelspec": {
   "display_name": ".venv",
   "language": "python",
   "name": "python3"
  },
  "language_info": {
   "codemirror_mode": {
    "name": "ipython",
    "version": 3
   },
   "file_extension": ".py",
   "mimetype": "text/x-python",
   "name": "python",
   "nbconvert_exporter": "python",
   "pygments_lexer": "ipython3",
   "version": "3.11.7"
  }
 },
 "nbformat": 4,
 "nbformat_minor": 2
}
