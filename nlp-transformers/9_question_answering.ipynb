{
 "cells": [
  {
   "cell_type": "code",
   "execution_count": 2,
   "metadata": {},
   "outputs": [
    {
     "data": {
      "text/plain": [
       "['books', 'electronics', 'grocery', 'movies', 'restaurants', 'tripadvisor']"
      ]
     },
     "execution_count": 2,
     "metadata": {},
     "output_type": "execute_result"
    }
   ],
   "source": [
    "from datasets import get_dataset_config_names, load_dataset\n",
    "\n",
    "domains = get_dataset_config_names(\"subjqa\")\n",
    "domains"
   ]
  },
  {
   "cell_type": "code",
   "execution_count": 4,
   "metadata": {},
   "outputs": [],
   "source": [
    "subjqa = load_dataset(\"subjqa\", name=\"electronics\")"
   ]
  },
  {
   "cell_type": "code",
   "execution_count": 5,
   "metadata": {},
   "outputs": [
    {
     "name": "stdout",
     "output_type": "stream",
     "text": [
      "{'text': ['Bass is weak as expected', 'Bass is weak as expected, even with EQ adjusted up'], 'answer_start': [1302, 1302], 'answer_subj_level': [1, 1], 'ans_subj_score': [0.5083333253860474, 0.5083333253860474], 'is_ans_subjective': [True, True]}\n"
     ]
    }
   ],
   "source": [
    "print(subjqa[\"train\"][\"answers\"][1])"
   ]
  },
  {
   "cell_type": "code",
   "execution_count": 6,
   "metadata": {},
   "outputs": [
    {
     "name": "stdout",
     "output_type": "stream",
     "text": [
      "Dataset({\n",
      "    features: ['domain', 'nn_mod', 'nn_asp', 'query_mod', 'query_asp', 'q_reviews_id', 'question_subj_level', 'ques_subj_score', 'is_ques_subjective', 'review_id', 'id', 'title', 'context', 'question', 'answers'],\n",
      "    num_rows: 1295\n",
      "})\n"
     ]
    }
   ],
   "source": [
    "print(subjqa[\"train\"])"
   ]
  },
  {
   "cell_type": "code",
   "execution_count": 7,
   "metadata": {},
   "outputs": [
    {
     "name": "stdout",
     "output_type": "stream",
     "text": [
      "Number of questions in train: 1295\n",
      "Number of questions in test: 358\n",
      "Number of questions in validation: 255\n"
     ]
    }
   ],
   "source": [
    "import pandas as pd\n",
    "\n",
    "dfs = {split: dset.to_pandas() for split, dset in subjqa.flatten().items()}\n",
    "\n",
    "for split, df in dfs.items():\n",
    "    print(f\"Number of questions in {split}: {df['id'].nunique()}\")"
   ]
  },
  {
   "cell_type": "code",
   "execution_count": 8,
   "metadata": {},
   "outputs": [
    {
     "name": "stdout",
     "output_type": "stream",
     "text": [
      "{'train':            domain       nn_mod         nn_asp   query_mod   query_asp  \\\n",
      "0     electronics        great  bass response   excellent        bass   \n",
      "1     electronics        harsh           high  not strong        bass   \n",
      "2     electronics      neutral          sound     present        bass   \n",
      "3     electronics        muddy           bass     awesome        bass   \n",
      "4     electronics      perfect           bass  incredible       sound   \n",
      "...           ...          ...            ...         ...         ...   \n",
      "1290  electronics        great     impression     rubbery        feel   \n",
      "1291  electronics        tight           case       great  protection   \n",
      "1292  electronics         good        texture        good        grip   \n",
      "1293  electronics  easy to use       keyboard   removable    keyboard   \n",
      "1294  electronics  easy to use       keyboard   removable    keyboard   \n",
      "\n",
      "                          q_reviews_id  question_subj_level  ques_subj_score  \\\n",
      "0     0514ee34b672623dff659334a25b599b                    5             0.50   \n",
      "1     7c46670208f7bf5497480fbdbb44561a                    1             0.50   \n",
      "2     8fbf26792c438aa83178c2d507af5d77                    1             0.50   \n",
      "3     9876fd06ed8f075fcad70d1e30e7e8be                    1             0.50   \n",
      "4     16506b53e2d4c2b6a65881d9462256c2                    1             0.65   \n",
      "...                                ...                  ...              ...   \n",
      "1290  d4409d6272a7d1d5aa287d6e164bb7d0                    1             0.00   \n",
      "1291  ed6533390fe2fe0d546b69dea570c34b                    5             0.00   \n",
      "1292  22b23446daf9d5bc0140be7278b220ee                    1             0.00   \n",
      "1293  e7967ad5be0658b4acfca1118f6af1ab                    1             0.00   \n",
      "1294  e7967ad5be0658b4acfca1118f6af1ab                    1             0.00   \n",
      "\n",
      "      is_ques_subjective                         review_id  \\\n",
      "0                  False  882b1e2745a4779c8f17b3d4406b91c7   \n",
      "1                  False  ce76793f036494eabe07b33a9a67288a   \n",
      "2                  False  d040f2713caa2aff0ce95affb40e12c2   \n",
      "3                  False  043e7162df91f6ea916c790c8a6f6b22   \n",
      "4                   True  29ccd7e690050e2951be49289e915382   \n",
      "...                  ...                               ...   \n",
      "1290               False  ebaaec25661c0b21f3e5600a1ed7e30b   \n",
      "1291               False  ebaaec25661c0b21f3e5600a1ed7e30b   \n",
      "1292               False  84efbd9643d7f43af0ea0d2468c7dcc9   \n",
      "1293               False  e856d7e5351e3385b5d75f06562e905b   \n",
      "1294               False  57fa25acee9914487510f4a8ee37bca6   \n",
      "\n",
      "                                    id       title  \\\n",
      "0     2543d296da9766d8d17d040ecc781699  B00001P4ZH   \n",
      "1     d476830bf9282e2b9033e2bb44bbb995  B00001P4ZH   \n",
      "2     455575557886d6dfeea5aa19577e5de4  B00001P4ZH   \n",
      "3     6895a59b470d8feee0f39da6c53a92e5  B00001WRSJ   \n",
      "4     7a2173c502da97c5bd5950eae7cd7430  B00001WRSJ   \n",
      "...                                ...         ...   \n",
      "1290  e0ea72e711324b5482ec1b36a48f16ee  B00H3OYSHW   \n",
      "1291  ee5906ed3306b7c6d219a40adae2c7c2  B00H3OYSHW   \n",
      "1292  a541ffd9697ebf0ad9d226428594128e  B00HNGB1YS   \n",
      "1293  7efc5e7ffaa79f53cc50f76a44f9f88e  B00HPM1G8Q   \n",
      "1294  4bfdd55cb76def0cbae0e0df5e7a14b6  B00HPM1G8Q   \n",
      "\n",
      "                                                context  \\\n",
      "0     I have had Koss headphones in the past, Pro 4A...   \n",
      "1     To anyone who hasn't tried all the various typ...   \n",
      "2     I have had many sub-$100 headphones from $5 Pa...   \n",
      "3     My sister's Bose headphones finally died and s...   \n",
      "4     Wow. Just wow. I'm a 22 yr old with a crazy ob...   \n",
      "...                                                 ...   \n",
      "1290  I ordered my new NewTrend Airbender Pro NT610K...   \n",
      "1291  I ordered my new NewTrend Airbender Pro NT610K...   \n",
      "1292  After using this case for a few days, I have g...   \n",
      "1293  Edit 4/21/14. I finally caved and purchased a ...   \n",
      "1294  The Belkin QODE Portable Bluetooth Keyboard Ca...   \n",
      "\n",
      "                                   question  \\\n",
      "0                          How is the bass?   \n",
      "1       Is this music song have a goo bass?   \n",
      "2                          How is the bass?   \n",
      "3                    How is the audio bass?   \n",
      "4        Why do I have an incredible sound?   \n",
      "...                                     ...   \n",
      "1290            Where can I feel my device?   \n",
      "1291  How does the selector protection  me?   \n",
      "1292                       How is the grip?   \n",
      "1293                   How is the keyboard?   \n",
      "1294                   How is the keyboard?   \n",
      "\n",
      "                                           answers.text answers.answer_start  \\\n",
      "0                                                    []                   []   \n",
      "1     [Bass is weak as expected, Bass is weak as exp...         [1302, 1302]   \n",
      "2             [The only fault in the sound is the bass]                [650]   \n",
      "3                             [the best of all of them]               [1609]   \n",
      "4     [The sound is so crisp, crazy obsession with s...            [141, 38]   \n",
      "...                                                 ...                  ...   \n",
      "1290                                                 []                   []   \n",
      "1291                                                 []                   []   \n",
      "1292                                                 []                   []   \n",
      "1293  [the keyboard is very easy to use, the keyboar...           [258, 258]   \n",
      "1294                   [is easy to use and works great]                [541]   \n",
      "\n",
      "     answers.answer_subj_level    answers.ans_subj_score  \\\n",
      "0                           []                        []   \n",
      "1                       [1, 1]    [0.5083333, 0.5083333]   \n",
      "2                          [2]               [0.6333333]   \n",
      "3                          [1]                     [0.3]   \n",
      "4                       [1, 1]  [0.40833333, 0.40833333]   \n",
      "...                        ...                       ...   \n",
      "1290                        []                        []   \n",
      "1291                        []                        []   \n",
      "1292                        []                        []   \n",
      "1293                    [1, 1]                [1.0, 1.0]   \n",
      "1294                       [1]               [0.7916667]   \n",
      "\n",
      "     answers.is_ans_subjective  \n",
      "0                           []  \n",
      "1                 [True, True]  \n",
      "2                       [True]  \n",
      "3                      [False]  \n",
      "4               [False, False]  \n",
      "...                        ...  \n",
      "1290                        []  \n",
      "1291                        []  \n",
      "1292                        []  \n",
      "1293              [True, True]  \n",
      "1294                    [True]  \n",
      "\n",
      "[1295 rows x 19 columns], 'test':           domain      nn_mod   nn_asp query_mod query_asp  \\\n",
      "0    electronics  comparable  quality   perfect   balance   \n",
      "1    electronics       other    lense      soft      lens   \n",
      "2    electronics      better      one    simple     thing   \n",
      "3    electronics       heavy     lens     solid      lens   \n",
      "4    electronics  more vivid    color    better  contrast   \n",
      "..           ...         ...      ...       ...       ...   \n",
      "353  electronics     compact     case    flimsy      case   \n",
      "354  electronics        thin     case     bulky      case   \n",
      "355  electronics     durable     case    flimsy      case   \n",
      "356  electronics   beautiful     case   awesome      case   \n",
      "357  electronics        nice    strap     rigid      case   \n",
      "\n",
      "                         q_reviews_id  question_subj_level  ques_subj_score  \\\n",
      "0    aa99f9b7fe9fe9c921bc2f963cb22121                    1              0.0   \n",
      "1    4fddf73448658d261ff5bd9daacc6c2b                    2              0.1   \n",
      "2    c7216c47768ac9095fe49a48e82cf26e                    2              0.0   \n",
      "3    ba83a2b49053dc2805e3b85e6b759914                    2              0.0   \n",
      "4    115589d9534d05d74fba3db0676ecf94                    1              0.0   \n",
      "..                                ...                  ...              ...   \n",
      "353  190bc2f46d2690637696d73e38a51d26                    1              0.5   \n",
      "354  a3176fc259b3f8e988ffedf99ffc7e4e                    1              0.0   \n",
      "355  cbc2f3a9bc987bdbe363a8c5d4bf5147                    2              0.5   \n",
      "356  73a9cbec30353b9e818fa8733000d28b                    1              0.0   \n",
      "357  2ee46e36e2927b593cfd7b682d588ec3                    1              0.0   \n",
      "\n",
      "     is_ques_subjective                         review_id  \\\n",
      "0                 False  f011c75fb8d26066217e64b3ff470d84   \n",
      "1                 False  3c1f26f3a126eb3c35086e374d9ebb92   \n",
      "2                 False  4e4c2654442ceca7fdea00982e2af11a   \n",
      "3                 False  fac2e8bec06035a70307dd1e8034ea63   \n",
      "4                 False  26bf35fe7f9a73d28535d5072ab17714   \n",
      "..                  ...                               ...   \n",
      "353               False  57a3d072cc34d683132319c0516a5654   \n",
      "354               False  a4a638d5b16387ee9b09a37eddfec8a0   \n",
      "355               False  0eba05a07634fc3c5a5400cc0e97198f   \n",
      "356               False  32f0933ca22a2553af02d4b5e3c8de32   \n",
      "357               False  62f620f40a54e9c966efffd0ee44a155   \n",
      "\n",
      "                                   id       title  \\\n",
      "0    d0781d13200014aa25860e44da9d5ea7  B00001WRSJ   \n",
      "1    b01740bc2d7f437398dfbb43073398a7  B00005LEN4   \n",
      "2    bfcaa4005b2a8c3c221cb97925a60c6f  B00006B7DA   \n",
      "3    7e34a94e6f5329a62ace7f956e4c5303  B00006I53S   \n",
      "4    f549e9a738cf0d02079b078098752587  B00006I53S   \n",
      "..                                ...         ...   \n",
      "353  15e8641a017f932bd18d62b234d233b3  B00GP4BVTO   \n",
      "354  3aed11488369a643feeb92a4bf199407  B00H3OYSHW   \n",
      "355  fdbbf1803a8500b8fb504fc2474bc0ca  B00H3OYSHW   \n",
      "356  1415fda1208bb402a22bbc1dbaab5487  B00HNFPZF0   \n",
      "357  0c092a614f9ac007103523525fe31e2c  B00HNGB1YS   \n",
      "\n",
      "                                               context  \\\n",
      "0    I have been a headphone fanatic for thirty yea...   \n",
      "1    UPDATED: 5/20/2011:  I used my D700, and only ...   \n",
      "2    It worked fine at the start but within a week ...   \n",
      "3    I bought this lens for my Canon 20D digital ca...   \n",
      "4    I am not a professional or expert photographer...   \n",
      "..                                                 ...   \n",
      "353  The case is built well. It does not seem like ...   \n",
      "354  I really like the Airbender Pro. It's an excel...   \n",
      "355  I've found this case to be very durable and re...   \n",
      "356  I have had this item for less than a week and ...   \n",
      "357  The Gladius mini is a durable case. It has a s...   \n",
      "\n",
      "                                              question  \\\n",
      "0       What is the tonal balance of these headphones?   \n",
      "1    How would you describe the texture of the lens...   \n",
      "2                                    How is the thing?   \n",
      "3                            How do you like the lens?   \n",
      "4                                 How is the contrast?   \n",
      "..                                                 ...   \n",
      "353              How is the case fitting your product?   \n",
      "354                   Where can I get a luminous case?   \n",
      "355              How is the case fitting your product?   \n",
      "356                                   How is the case?   \n",
      "357                                   What about case?   \n",
      "\n",
      "                                          answers.text answers.answer_start  \\\n",
      "0    [I have been a headphone fanatic for thirty ye...                  [0]   \n",
      "1                                                   []                   []   \n",
      "2                                                   []                   []   \n",
      "3                           [I do recommend this lens]               [3341]   \n",
      "4                                                   []                   []   \n",
      "..                                                 ...                  ...   \n",
      "353   [The case is built well, The case is built well]               [0, 0]   \n",
      "354              [This case has a really rugged metal]               [1709]   \n",
      "355                                                 []                   []   \n",
      "356  [The case is very beautiful, The case is very ...           [172, 172]   \n",
      "357  [The Gladius mini is a durable case, the case ...             [0, 730]   \n",
      "\n",
      "    answers.answer_subj_level answers.ans_subj_score answers.is_ans_subjective  \n",
      "0                         [1]                  [0.8]                    [True]  \n",
      "1                          []                     []                        []  \n",
      "2                          []                     []                        []  \n",
      "3                         [2]                  [0.0]                   [False]  \n",
      "4                          []                     []                        []  \n",
      "..                        ...                    ...                       ...  \n",
      "353                    [1, 1]             [0.0, 0.0]            [False, False]  \n",
      "354                       [1]                  [0.2]                   [False]  \n",
      "355                        []                     []                        []  \n",
      "356                    [1, 1]             [1.0, 1.0]              [True, True]  \n",
      "357                    [1, 1]             [0.0, 0.0]            [False, False]  \n",
      "\n",
      "[358 rows x 19 columns], 'validation':           domain       nn_mod      nn_asp        query_mod   query_asp  \\\n",
      "0    electronics      neutral       sound          present        bass   \n",
      "1    electronics        clear        view             easy        time   \n",
      "2    electronics        clear        high            solid        bass   \n",
      "3    electronics      perfect       color          amazing       color   \n",
      "4    electronics   impressive     picture            great       image   \n",
      "..           ...          ...         ...              ...         ...   \n",
      "250  electronics        right        size  more reasonable       price   \n",
      "251  electronics         good  resolution          amazing  resolution   \n",
      "252  electronics         good  brightness        brilliant       color   \n",
      "253  electronics        tight        case            great  protection   \n",
      "254  electronics  easy to use    keyboard        removable    keyboard   \n",
      "\n",
      "                         q_reviews_id  question_subj_level  ques_subj_score  \\\n",
      "0    8fbf26792c438aa83178c2d507af5d77                    1              0.5   \n",
      "1    c68a6cc477b67ae54dbe15fc19b1e2fc                    3              0.0   \n",
      "2    6521176a0cf9742c793c6c2a348eb3a6                    5              0.5   \n",
      "3    a93b18abb223549010a8e676cfb2ffb0                    1              0.0   \n",
      "4    231254b7eb9ef7da363ed86cb9eea0df                    5              0.6   \n",
      "..                                ...                  ...              ...   \n",
      "250  bd9a52715ed9ceabbc2115176d70e6d4                    1              0.2   \n",
      "251  f582f22fe9c904bd60e3b8b70eef1e30                    5              0.0   \n",
      "252  bf4b46c7643ef312f869d92941b802f8                    1              0.0   \n",
      "253  ed6533390fe2fe0d546b69dea570c34b                    3              0.0   \n",
      "254  e7967ad5be0658b4acfca1118f6af1ab                    2              0.0   \n",
      "\n",
      "     is_ques_subjective                         review_id  \\\n",
      "0                 False  d040f2713caa2aff0ce95affb40e12c2   \n",
      "1                 False  acc40990720aba8c38ecc7cda49b4d94   \n",
      "2                 False  12896447561b4f7947c99f5cccdedc7b   \n",
      "3                 False  9f8869ddd92ade59a4db128972492c67   \n",
      "4                  True  26128195da35fe33ca351524017b6d56   \n",
      "..                  ...                               ...   \n",
      "250               False  d4f9c6f9af5e705eb1bf6fa1b019624a   \n",
      "251               False  d2ebd99eafe1b7ccc884548525f83f94   \n",
      "252               False  7c971b6ee956bef3b7faa4dd88575f0c   \n",
      "253               False  ebaaec25661c0b21f3e5600a1ed7e30b   \n",
      "254               False  57fa25acee9914487510f4a8ee37bca6   \n",
      "\n",
      "                                   id       title  \\\n",
      "0    455575557886d6dfeea5aa19577e5de4  B00001P4ZH   \n",
      "1    47110eb7720cffd03bb78f609999243d  B00004SABB   \n",
      "2    0645f5f9fabb5276fea9c572fb1d378d  B000062VUO   \n",
      "3    063fe5ccf8860dc591bacec10c8735d5  B00007E7JU   \n",
      "4    5f9ca4c7ca86909bd58bb2713eb3b091  B00007GQLU   \n",
      "..                                ...         ...   \n",
      "250  62326ee218c2e24b73f9b23f55208b72  B00DVFLJDS   \n",
      "251  07285ed920b2056bb427614f9e6c6116  B00F3SOHNU   \n",
      "252  12012d3d628622059784d550e5025b90  B00FEE7B1I   \n",
      "253  ee5906ed3306b7c6d219a40adae2c7c2  B00H3OYSHW   \n",
      "254  4bfdd55cb76def0cbae0e0df5e7a14b6  B00HPM1G8Q   \n",
      "\n",
      "                                               context  \\\n",
      "0    I have had many sub-$100 headphones from $5 Pa...   \n",
      "1    the view is so good and clear and so easy to f...   \n",
      "2    I first fell in love with Klipsch in the 80s w...   \n",
      "3    I love my 50mm. At f/1.8, it's close to imposs...   \n",
      "4    Simply the best lens I have ever used.  Make s...   \n",
      "..                                                 ...   \n",
      "250  This smartphone meets my needs.. The size is j...   \n",
      "251  [Edit 10/27/2013]After I began to edit the rev...   \n",
      "252  I've been running the Dell Venue Pro 8 daily f...   \n",
      "253  I ordered my new NewTrend Airbender Pro NT610K...   \n",
      "254  The Belkin QODE Portable Bluetooth Keyboard Ca...   \n",
      "\n",
      "                                  question                  answers.text  \\\n",
      "0                         How is the bass?                            []   \n",
      "1                         How is the time?                            []   \n",
      "2                What is the bass provide?                  [Bass booms]   \n",
      "3    What does it tell us about the color?                            []   \n",
      "4    How good is the image of this camera?                            []   \n",
      "..                                     ...                           ...   \n",
      "250          How much is the price to pay?                            []   \n",
      "251        How was my camera's resolution?                            []   \n",
      "252                What color is brighter?          [form factor really]   \n",
      "253  How does the selector protection  me?  [it)Protective Capability~5]   \n",
      "254                   How is the keyboard?        [The keyboard is easy]   \n",
      "\n",
      "    answers.answer_start answers.answer_subj_level answers.ans_subj_score  \\\n",
      "0                     []                        []                     []   \n",
      "1                     []                        []                     []   \n",
      "2                  [252]                       [5]                  [0.5]   \n",
      "3                     []                        []                     []   \n",
      "4                     []                        []                     []   \n",
      "..                   ...                       ...                    ...   \n",
      "250                   []                        []                     []   \n",
      "251                   []                        []                     []   \n",
      "252                [101]                       [1]                  [0.2]   \n",
      "253               [3039]                       [1]                  [0.0]   \n",
      "254                [528]                       [2]            [0.8333333]   \n",
      "\n",
      "    answers.is_ans_subjective  \n",
      "0                          []  \n",
      "1                          []  \n",
      "2                     [False]  \n",
      "3                          []  \n",
      "4                          []  \n",
      "..                        ...  \n",
      "250                        []  \n",
      "251                        []  \n",
      "252                   [False]  \n",
      "253                   [False]  \n",
      "254                    [True]  \n",
      "\n",
      "[255 rows x 19 columns]}\n"
     ]
    }
   ],
   "source": [
    "print(dfs)"
   ]
  },
  {
   "cell_type": "code",
   "execution_count": 23,
   "metadata": {},
   "outputs": [
    {
     "data": {
      "text/html": [
       "<div>\n",
       "<style scoped>\n",
       "    .dataframe tbody tr th:only-of-type {\n",
       "        vertical-align: middle;\n",
       "    }\n",
       "\n",
       "    .dataframe tbody tr th {\n",
       "        vertical-align: top;\n",
       "    }\n",
       "\n",
       "    .dataframe thead th {\n",
       "        text-align: right;\n",
       "    }\n",
       "</style>\n",
       "<table border=\"1\" class=\"dataframe\">\n",
       "  <thead>\n",
       "    <tr style=\"text-align: right;\">\n",
       "      <th></th>\n",
       "      <th>title</th>\n",
       "      <th>question</th>\n",
       "      <th>answers.text</th>\n",
       "      <th>answers.answer_start</th>\n",
       "      <th>context</th>\n",
       "    </tr>\n",
       "  </thead>\n",
       "  <tbody>\n",
       "    <tr>\n",
       "      <th>461</th>\n",
       "      <td>B0039H2W66</td>\n",
       "      <td>How do you rate the direction?</td>\n",
       "      <td>[]</td>\n",
       "      <td>[]</td>\n",
       "      <td>We have a 2006 Toyota Sienna and this was quit...</td>\n",
       "    </tr>\n",
       "    <tr>\n",
       "      <th>953</th>\n",
       "      <td>B0074BW614</td>\n",
       "      <td>How good are the graphics?</td>\n",
       "      <td>[The graphics are nice, nice and the sound is ...</td>\n",
       "      <td>[29, 46]</td>\n",
       "      <td>For the price it's not bad.  The graphics are ...</td>\n",
       "    </tr>\n",
       "  </tbody>\n",
       "</table>\n",
       "</div>"
      ],
      "text/plain": [
       "          title                        question  \\\n",
       "461  B0039H2W66  How do you rate the direction?   \n",
       "953  B0074BW614      How good are the graphics?   \n",
       "\n",
       "                                          answers.text answers.answer_start  \\\n",
       "461                                                 []                   []   \n",
       "953  [The graphics are nice, nice and the sound is ...             [29, 46]   \n",
       "\n",
       "                                               context  \n",
       "461  We have a 2006 Toyota Sienna and this was quit...  \n",
       "953  For the price it's not bad.  The graphics are ...  "
      ]
     },
     "execution_count": 23,
     "metadata": {},
     "output_type": "execute_result"
    }
   ],
   "source": [
    "qa_cols = [\"title\", \"question\", \"answers.text\",\n",
    "           \"answers.answer_start\", \"context\"]\n",
    "sample_df = dfs[\"train\"][qa_cols].sample(2)\n",
    "sample_df"
   ]
  },
  {
   "cell_type": "code",
   "execution_count": 25,
   "metadata": {},
   "outputs": [
    {
     "data": {
      "image/png": "[encoded data removed]",
      "text/plain": [
       "<Figure size 640x480 with 1 Axes>"
      ]
     },
     "metadata": {},
     "output_type": "display_data"
    }
   ],
   "source": [
    "from matplotlib import pyplot as plt\n",
    "\n",
    "counts = {}\n",
    "question_types = [\"What\", \"How\", \"Is\", \"Does\", \"Do\", \"Was\", \"Where\", \"Why\"]\n",
    "\n",
    "for q in question_types:\n",
    "    counts[q] = dfs[\"train\"][\"question\"].str.startswith(q).value_counts()[True]\n",
    "\n",
    "pd.Series(counts).sort_values().plot.barh()\n",
    "plt.title(\"Frequency of Question Types\")\n",
    "plt.show()"
   ]
  },
  {
   "cell_type": "code",
   "execution_count": 26,
   "metadata": {},
   "outputs": [
    {
     "name": "stdout",
     "output_type": "stream",
     "text": [
      "How is the camera?\n",
      "How do you like the control?\n",
      "How fast is the charger?\n",
      "What is direction?\n",
      "What is the quality of the construction of the bag?\n",
      "What is your impression of the product?\n",
      "Is this how zoom works?\n",
      "Is sound clear?\n",
      "Is it a wireless keyboard?\n"
     ]
    }
   ],
   "source": [
    "for question_type in [\"How\", \"What\", \"Is\"]:\n",
    "    for question in (\n",
    "        dfs[\"train\"][dfs[\"train\"].question.str.startswith(question_type)]\n",
    "        .sample(n=3, random_state=42)['question']):\n",
    "        print(question)"
   ]
  },
  {
   "cell_type": "code",
   "execution_count": 28,
   "metadata": {},
   "outputs": [],
   "source": [
    "from transformers import AutoTokenizer\n",
    "\n",
    "model_ckpt = \"deepset/minilm-uncased-squad2\"\n",
    "tokenizer = AutoTokenizer.from_pretrained(model_ckpt)"
   ]
  },
  {
   "cell_type": "code",
   "execution_count": 29,
   "metadata": {},
   "outputs": [],
   "source": [
    "question = \"How much music can this hold?\"\n",
    "context = \"\"\"An MP3 is about 1 MB/minute, so about 6000 hours depending on \\\n",
    "file size.\"\"\"\n",
    "inputs = tokenizer(question, context, return_tensors=\"pt\")"
   ]
  },
  {
   "cell_type": "code",
   "execution_count": 30,
   "metadata": {},
   "outputs": [
    {
     "name": "stdout",
     "output_type": "stream",
     "text": [
      "[CLS] how much music can this hold? [SEP] an mp3 is about 1 mb / minute, so about 6000 hours depending on file size. [SEP]\n"
     ]
    }
   ],
   "source": [
    "print(tokenizer.decode(inputs[\"input_ids\"][0]))"
   ]
  },
  {
   "cell_type": "code",
   "execution_count": 31,
   "metadata": {},
   "outputs": [
    {
     "data": {
      "application/vnd.jupyter.widget-view+json": {
       "model_id": "e2728489eadc48b488428e6a940925a8",
       "version_major": 2,
       "version_minor": 0
      },
      "text/plain": [
       "model.safetensors:   0%|          | 0.00/133M [00:00<?, ?B/s]"
      ]
     },
     "metadata": {},
     "output_type": "display_data"
    },
    {
     "name": "stderr",
     "output_type": "stream",
     "text": [
      "Some weights of the model checkpoint at deepset/minilm-uncased-squad2 were not used when initializing BertForQuestionAnswering: ['bert.pooler.dense.weight', 'bert.pooler.dense.bias']\n",
      "- This IS expected if you are initializing BertForQuestionAnswering from the checkpoint of a model trained on another task or with another architecture (e.g. initializing a BertForSequenceClassification model from a BertForPreTraining model).\n",
      "- This IS NOT expected if you are initializing BertForQuestionAnswering from the checkpoint of a model that you expect to be exactly identical (initializing a BertForSequenceClassification model from a BertForSequenceClassification model).\n"
     ]
    },
    {
     "name": "stdout",
     "output_type": "stream",
     "text": [
      "QuestionAnsweringModelOutput(loss=None, start_logits=tensor([[-0.9862, -4.7750, -5.4025, -5.2378, -5.2863, -5.5117, -4.9819, -6.1880,\n",
      "         -0.9862,  0.2596, -0.2144, -1.7136,  3.7806,  4.8561, -1.0546, -3.9097,\n",
      "         -1.7374, -4.5944, -1.4278,  3.9949,  5.0391, -0.2018, -3.0193, -4.8549,\n",
      "         -2.3107, -3.5110, -3.5713, -0.9862]]), end_logits=tensor([[-0.9623, -5.4733, -5.0326, -5.1639, -5.4278, -5.5151, -5.1749, -4.6233,\n",
      "         -0.9623, -3.7855, -0.8715, -3.7745, -3.0162, -1.1780,  0.1758, -2.7365,\n",
      "          4.8934,  0.3046, -3.1761, -3.2762,  0.8937,  5.6606, -0.3623, -4.9554,\n",
      "         -3.2531, -0.0914,  1.6211, -0.9623]]), hidden_states=None, attentions=None)\n"
     ]
    }
   ],
   "source": [
    "import torch\n",
    "from transformers import AutoModelForQuestionAnswering\n",
    "\n",
    "model = AutoModelForQuestionAnswering.from_pretrained(model_ckpt)\n",
    "\n",
    "with torch.no_grad():\n",
    "    outputs = model(**inputs)\n",
    "print(outputs)"
   ]
  },
  {
   "cell_type": "code",
   "execution_count": 32,
   "metadata": {},
   "outputs": [],
   "source": [
    "start_logits = outputs.start_logits\n",
    "end_logits = outputs.end_logits"
   ]
  },
  {
   "cell_type": "code",
   "execution_count": 33,
   "metadata": {},
   "outputs": [
    {
     "name": "stdout",
     "output_type": "stream",
     "text": [
      "Input IDs shape: torch.Size([1, 28])\n",
      "Start logits shape: torch.Size([1, 28])\n",
      "End logits shape: torch.Size([1, 28])\n"
     ]
    }
   ],
   "source": [
    "print(f\"Input IDs shape: {inputs.input_ids.size()}\")\n",
    "print(f\"Start logits shape: {start_logits.size()}\")\n",
    "print(f\"End logits shape: {end_logits.size()}\")"
   ]
  },
  {
   "cell_type": "code",
   "execution_count": 34,
   "metadata": {},
   "outputs": [
    {
     "name": "stdout",
     "output_type": "stream",
     "text": [
      "Question: How much music can this hold?\n",
      "Answer: 6000 hours\n"
     ]
    }
   ],
   "source": [
    "import torch\n",
    "\n",
    "start_idx = torch.argmax(start_logits)\n",
    "end_idx = torch.argmax(end_logits) + 1\n",
    "answer_span = inputs[\"input_ids\"][0][start_idx:end_idx]\n",
    "answer = tokenizer.decode(answer_span)\n",
    "print(f\"Question: {question}\")\n",
    "print(f\"Answer: {answer}\")"
   ]
  },
  {
   "cell_type": "code",
   "execution_count": 35,
   "metadata": {},
   "outputs": [
    {
     "name": "stderr",
     "output_type": "stream",
     "text": [
      "2024-01-23 13:28:57.885292: E external/local_xla/xla/stream_executor/cuda/cuda_dnn.cc:9261] Unable to register cuDNN factory: Attempting to register factory for plugin cuDNN when one has already been registered\n",
      "2024-01-23 13:28:57.885503: E external/local_xla/xla/stream_executor/cuda/cuda_fft.cc:607] Unable to register cuFFT factory: Attempting to register factory for plugin cuFFT when one has already been registered\n",
      "2024-01-23 13:28:57.907646: E external/local_xla/xla/stream_executor/cuda/cuda_blas.cc:1515] Unable to register cuBLAS factory: Attempting to register factory for plugin cuBLAS when one has already been registered\n",
      "2024-01-23 13:28:57.980864: I tensorflow/core/platform/cpu_feature_guard.cc:182] This TensorFlow binary is optimized to use available CPU instructions in performance-critical operations.\n",
      "To enable the following instructions: AVX2 FMA, in other operations, rebuild TensorFlow with the appropriate compiler flags.\n",
      "2024-01-23 13:28:59.215626: W tensorflow/compiler/tf2tensorrt/utils/py_utils.cc:38] TF-TRT Warning: Could not find TensorRT\n",
      "/home/jeremygf/git/ml-notebooks/.venv/lib/python3.11/site-packages/transformers/pipelines/question_answering.py:326: UserWarning: topk parameter is deprecated, use top_k instead\n",
      "  warnings.warn(\"topk parameter is deprecated, use top_k instead\", UserWarning)\n"
     ]
    },
    {
     "data": {
      "text/plain": [
       "[{'score': 0.26516193151474, 'start': 38, 'end': 48, 'answer': '6000 hours'},\n",
       " {'score': 0.22082945704460144,\n",
       "  'start': 16,\n",
       "  'end': 48,\n",
       "  'answer': '1 MB/minute, so about 6000 hours'},\n",
       " {'score': 0.10253503918647766,\n",
       "  'start': 16,\n",
       "  'end': 27,\n",
       "  'answer': '1 MB/minute'}]"
      ]
     },
     "execution_count": 35,
     "metadata": {},
     "output_type": "execute_result"
    }
   ],
   "source": [
    "from transformers import pipeline\n",
    "\n",
    "pipe = pipeline(\"question-answering\", model=model, tokenizer=tokenizer)\n",
    "pipe(question=question, context=context, topk=3)"
   ]
  },
  {
   "cell_type": "code",
   "execution_count": 36,
   "metadata": {},
   "outputs": [
    {
     "name": "stderr",
     "output_type": "stream",
     "text": [
      "Truncation was not explicitly activated but `max_length` is provided a specific value, please use `truncation=True` to explicitly truncate examples to max length. Defaulting to 'longest_first' truncation strategy. If you encode pairs of sequences (GLUE-style) with the tokenizer you can select this strategy more precisely by providing a specific strategy to `truncation`.\n"
     ]
    }
   ],
   "source": [
    "example = dfs[\"train\"].iloc[0][[\"question\", \"context\"]]\n",
    "tokenized_example = tokenizer(example[\"question\"], example[\"context\"],\n",
    "                              return_overflowing_tokens=True, max_length=100,\n",
    "                              stride=25)"
   ]
  },
  {
   "cell_type": "code",
   "execution_count": 37,
   "metadata": {},
   "outputs": [
    {
     "name": "stdout",
     "output_type": "stream",
     "text": [
      "Window #0 has 100 tokens\n",
      "Window #1 has 88 tokens\n"
     ]
    }
   ],
   "source": [
    "for idx, window in enumerate(tokenized_example[\"input_ids\"]):\n",
    "    print(f\"Window #{idx} has {len(window)} tokens\")"
   ]
  },
  {
   "cell_type": "code",
   "execution_count": 38,
   "metadata": {},
   "outputs": [
    {
     "name": "stdout",
     "output_type": "stream",
     "text": [
      "[CLS] how is the bass? [SEP] i have had koss headphones in the past, pro 4aa and qz - 99. the koss portapro is portable and has great bass response. the work great with my android phone and can be \" rolled up \" to be carried in my motorcycle jacket or computer bag without getting crunched. they are very light and do not feel heavy or bear down on your ears even after listening to music with them on all day. the sound is [SEP] \n",
      "\n",
      "[CLS] how is the bass? [SEP] and do not feel heavy or bear down on your ears even after listening to music with them on all day. the sound is night and day better than any ear - bud could be and are almost as good as the pro 4aa. they are \" open air \" headphones so you cannot match the bass to the sealed types, but it comes close. for $ 32, you cannot go wrong. [SEP] \n",
      "\n"
     ]
    }
   ],
   "source": [
    "for window in tokenized_example[\"input_ids\"]:\n",
    "    print(f\"{tokenizer.decode(window)} \\n\")"
   ]
  },
  {
   "cell_type": "code",
   "execution_count": 39,
   "metadata": {},
   "outputs": [],
   "source": [
    "url = \"\"\"https://artifacts.elastic.co/downloads/elasticsearch/\\\n",
    "elasticsearch-7.9.2-linux-x86_64.tar.gz\"\"\"\n",
    "!wget -nc -q {url}\n",
    "!tar -xzf elasticsearch-7.9.2-linux-x86_64.tar.gz"
   ]
  },
  {
   "cell_type": "code",
   "execution_count": 43,
   "metadata": {},
   "outputs": [],
   "source": [
    "#!./elasticsearch-7.9.2/bin/elasticsearch -d"
   ]
  },
  {
   "cell_type": "code",
   "execution_count": 47,
   "metadata": {},
   "outputs": [
    {
     "name": "stdout",
     "output_type": "stream",
     "text": [
      "{\n",
      "  \"name\" : \"jeremy-pc\",\n",
      "  \"cluster_name\" : \"elasticsearch\",\n",
      "  \"cluster_uuid\" : \"I1r2YwtqS46f9jXN8GmShA\",\n",
      "  \"version\" : {\n",
      "    \"number\" : \"7.9.2\",\n",
      "    \"build_flavor\" : \"default\",\n",
      "    \"build_type\" : \"tar\",\n",
      "    \"build_hash\" : \"d34da0ea4a966c4e49417f2da2f244e3e97b4e6e\",\n",
      "    \"build_date\" : \"2020-09-23T00:45:33.626720Z\",\n",
      "    \"build_snapshot\" : false,\n",
      "    \"lucene_version\" : \"8.6.2\",\n",
      "    \"minimum_wire_compatibility_version\" : \"6.8.0\",\n",
      "    \"minimum_index_compatibility_version\" : \"6.0.0-beta1\"\n",
      "  },\n",
      "  \"tagline\" : \"You Know, for Search\"\n",
      "}\n"
     ]
    }
   ],
   "source": [
    "!curl -X GET \"localhost:9200/?pretty\""
   ]
  },
  {
   "cell_type": "code",
   "execution_count": 46,
   "metadata": {},
   "outputs": [
    {
     "name": "stdout",
     "output_type": "stream",
     "text": [
      "Collecting haystack\n",
      "  Downloading haystack-0.42-py2.py3-none-any.whl (179 kB)\n",
      "\u001b[2K     \u001b[90m━━━━━━━━━━━━━━━━━━━━━━━━━━━━━━━━━━━━━━━\u001b[0m \u001b[32m179.6/179.6 kB\u001b[0m \u001b[31m2.6 MB/s\u001b[0m eta \u001b[36m0:00:00\u001b[0ma \u001b[36m0:00:01\u001b[0m\n",
      "\u001b[?25hCollecting construct<2.8 (from haystack)\n",
      "  Downloading construct-2.5.3.tar.gz (688 kB)\n",
      "\u001b[2K     \u001b[90m━━━━━━━━━━━━━━━━━━━━━━━━━━━━━━━━━━━━━━\u001b[0m \u001b[32m688.1/688.1 kB\u001b[0m \u001b[31m13.4 MB/s\u001b[0m eta \u001b[36m0:00:00\u001b[0ma \u001b[36m0:00:01\u001b[0m\n",
      "\u001b[?25h  Preparing metadata (setup.py) ... \u001b[?25ldone\n",
      "\u001b[?25hCollecting pefile (from haystack)\n",
      "  Downloading pefile-2023.2.7-py3-none-any.whl (71 kB)\n",
      "\u001b[2K     \u001b[90m━━━━━━━━━━━━━━━━━━━━━━━━━━━━━━━━━━━━━━━━\u001b[0m \u001b[32m71.8/71.8 kB\u001b[0m \u001b[31m8.2 MB/s\u001b[0m eta \u001b[36m0:00:00\u001b[0m\n",
      "\u001b[?25hCollecting python-ptrace>=0.8.1 (from haystack)\n",
      "  Downloading python_ptrace-0.9.8-py2.py3-none-any.whl (99 kB)\n",
      "\u001b[2K     \u001b[90m━━━━━━━━━━━━━━━━━━━━━━━━━━━━━━━━━━━━━━━━\u001b[0m \u001b[32m99.7/99.7 kB\u001b[0m \u001b[31m12.8 MB/s\u001b[0m eta \u001b[36m0:00:00\u001b[0m\n",
      "\u001b[?25hRequirement already satisfied: six in /home/jeremygf/git/ml-notebooks/.venv/lib/python3.11/site-packages (from construct<2.8->haystack) (1.16.0)\n",
      "Building wheels for collected packages: construct\n",
      "  Building wheel for construct (setup.py) ... \u001b[?25ldone\n",
      "\u001b[?25h  Created wheel for construct: filename=construct-2.5.3-py2.py3-none-any.whl size=71819 sha256=499b084f645d4b3732fa864e3b5f630892dbab6d8997aa260f9c9a10f8d7c5db\n",
      "  Stored in directory: /home/jeremygf/.cache/pip/wheels/a3/05/de/eb183fcdbac24fd9633a5a8fcc5cdd2ed5c47611683ef2f522\n",
      "Successfully built construct\n",
      "Installing collected packages: python-ptrace, pefile, construct, haystack\n",
      "Successfully installed construct-2.5.3 haystack-0.42 pefile-2023.2.7 python-ptrace-0.9.8\n"
     ]
    }
   ],
   "source": [
    "!pip install haystack"
   ]
  },
  {
   "cell_type": "code",
   "execution_count": null,
   "metadata": {},
   "outputs": [],
   "source": [
    "from haystack.document_store.elasticsearch import ElasticsearchDocumentStore\n",
    "\n",
    "# Return the document embedding for later use with dense retriever\n",
    "document_store = ElasticsearchDocumentStore(return_embedding=True)"
   ]
  }
 ],
 "metadata": {
  "kernelspec": {
   "display_name": ".venv",
   "language": "python",
   "name": "python3"
  },
  "language_info": {
   "codemirror_mode": {
    "name": "ipython",
    "version": 3
   },
   "file_extension": ".py",
   "mimetype": "text/x-python",
   "name": "python",
   "nbconvert_exporter": "python",
   "pygments_lexer": "ipython3",
   "version": "3.11.7"
  }
 },
 "nbformat": 4,
 "nbformat_minor": 2
}
